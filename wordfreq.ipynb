{
 "cells": [
  {
   "cell_type": "markdown",
   "metadata": {},
   "source": [
    "# wordfreq-没有同义词"
   ]
  },
  {
   "cell_type": "code",
   "execution_count": 2,
   "metadata": {},
   "outputs": [
    {
     "name": "stdout",
     "output_type": "stream",
     "text": [
      "请输入当前文件夹路径:D:\\work\\python\\wordfreq\n",
      "请输入文件名字:test.txt\n",
      "done!\n"
     ]
    }
   ],
   "source": [
    "import os\n",
    "import jieba\n",
    "import jieba.posseg as psg\n",
    "import re\n",
    "import pandas as pd\n",
    "def get_stop_dict(file):\n",
    "    content = open(file,encoding=\"utf-8\")\n",
    "    word_list = []\n",
    "    for c in content:\n",
    "        c = re.sub('\\n|\\r','',c)\n",
    "        word_list.append(c)\n",
    "    return word_list\n",
    "\n",
    "file_path = input(\"请输入当前文件夹路径:\")\n",
    "os.chdir(file_path)\n",
    "\n",
    "stop_file = \"stopwordlist.txt\"\n",
    "user_file = \"add_word_list.txt\"\n",
    "\n",
    "stop_words = get_stop_dict(stop_file)\n",
    "file_name = input(\"请输入文件名字:\")\n",
    "text = open(file_name,encoding=\"utf-8\").read()\n",
    "jieba.load_userdict(user_file)\n",
    "text_lines  = text.split('\\n')\n",
    "\n",
    "flag_list = ['n','nz','vn']#a,形容词，v,形容词\n",
    "counts={}\n",
    "\n",
    "for line in text_lines:\n",
    "    line_seg = psg.cut(line)\n",
    "    for word_flag in line_seg:\n",
    "        word = re.sub(\"[^\\u4e00-\\u9fa5]\",\"\",word_flag.word)\n",
    "        if word_flag.flag in flag_list and len(word)>1 and word not in stop_words:\n",
    "            counts[word]=counts.get(word,0)+1\n",
    "\n",
    "word_freq = pd.DataFrame({'word':list(counts.keys()),'freq':list(counts.values())})\n",
    "word_freq = word_freq.sort_values(by='freq',ascending=False)\n",
    "word_freq.to_excel(\"word_freq.xlsx\",index=False)\n",
    "\n",
    "print(\"done!\")"
   ]
  },
  {
   "cell_type": "markdown",
   "metadata": {},
   "source": [
    "# wordfreq-合并同义词"
   ]
  },
  {
   "cell_type": "code",
   "execution_count": 5,
   "metadata": {},
   "outputs": [
    {
     "name": "stdout",
     "output_type": "stream",
     "text": [
      "请输入当前文件夹路径:D:\\work\\python\\wordfreq\n",
      "请输入文件名字:test.txt\n",
      "done!\n"
     ]
    }
   ],
   "source": [
    "import os\n",
    "import jieba\n",
    "import jieba.posseg as psg\n",
    "import re\n",
    "import pandas as pd\n",
    "def get_stop_dict(file):\n",
    "    content = open(file,encoding=\"utf-8\")\n",
    "    word_list = []\n",
    "    for c in content:\n",
    "        c = re.sub('\\n|\\r','',c)\n",
    "        word_list.append(c)\n",
    "    return word_list\n",
    "\n",
    "file_path = input(\"请输入当前文件夹路径:\")\n",
    "os.chdir(file_path)\n",
    "\n",
    "stop_file = \"stopwordlist.txt\"\n",
    "user_file = \"add_word_list.txt\"\n",
    "synonym_file = \"synonym_list.xlsx\"\n",
    "\n",
    "stop_words = get_stop_dict(stop_file)\n",
    "synonym_words = pd.read_excel(\"synonym_list.xlsx\")\n",
    "synonym_origin = list(synonym_words['origin'])\n",
    "synonym_new = list(synonym_words['new'])\n",
    "\n",
    "file_name = input(\"请输入文件名字:\")\n",
    "text = open(file_name,encoding=\"utf-8\").read()\n",
    "jieba.load_userdict(user_file)\n",
    "text_lines  = text.split('\\n')\n",
    "\n",
    "\n",
    "flag_list = ['n','nz','vn']#a,形容词，v,形容词\n",
    "counts={}\n",
    "\n",
    "for line in text_lines:\n",
    "    line_seg = psg.cut(line)\n",
    "    for word_flag in line_seg:\n",
    "        word = re.sub(\"[^\\u4e00-\\u9fa5]\",\"\",word_flag.word)\n",
    "        if word_flag.flag in flag_list and len(word)>1 and word not in stop_words:\n",
    "            if word in synonym_origin:\n",
    "                index = synonym_origin.index(word)\n",
    "                word = synonym_new[index]\n",
    "            counts[word]=counts.get(word,0)+1\n",
    "\n",
    "word_freq = pd.DataFrame({'word':list(counts.keys()),'freq':list(counts.values())})\n",
    "word_freq = word_freq.sort_values(by='freq',ascending=False)\n",
    "word_freq.to_excel(\"word_freq.xlsx\",index=False)\n",
    "\n",
    "print(\"done!\")"
   ]
  },
  {
   "cell_type": "code",
   "execution_count": null,
   "metadata": {},
   "outputs": [],
   "source": []
  }
 ],
 "metadata": {
  "kernelspec": {
   "display_name": "Python 3",
   "language": "python",
   "name": "python3"
  },
  "language_info": {
   "codemirror_mode": {
    "name": "ipython",
    "version": 3
   },
   "file_extension": ".py",
   "mimetype": "text/x-python",
   "name": "python",
   "nbconvert_exporter": "python",
   "pygments_lexer": "ipython3",
   "version": "3.7.1"
  },
  "toc": {
   "base_numbering": 1,
   "nav_menu": {},
   "number_sections": true,
   "sideBar": true,
   "skip_h1_title": false,
   "title_cell": "Table of Contents",
   "title_sidebar": "Contents",
   "toc_cell": false,
   "toc_position": {},
   "toc_section_display": true,
   "toc_window_display": false
  }
 },
 "nbformat": 4,
 "nbformat_minor": 2
}
